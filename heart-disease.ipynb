{
 "cells": [
  {
   "cell_type": "markdown",
   "metadata": {},
   "source": [
    "Сначала изучение данных. Данные по разным больницам, количество записей:\n",
    "          Cleveland: 303\n",
    "          Hungarian: 294\n",
    "        Switzerland: 123\n",
    "      Long Beach VA: 200\n",
    "\n",
    "Разделяю набор на три части: обучающий, проверочный и оценочный набор.\n",
    "          Cleveland - обучающий\n",
    "          Hungarian - проверочный\n",
    "        Switzerland + Long Beach VA - оценочный\n"
   ]
  }
 ],
 "metadata": {
  "kernelspec": {
   "display_name": "Python 3",
   "language": "python",
   "name": "python3"
  },
  "language_info": {
   "codemirror_mode": {
    "name": "ipython",
    "version": 3
   },
   "file_extension": ".py",
   "mimetype": "text/x-python",
   "name": "python",
   "nbconvert_exporter": "python",
   "pygments_lexer": "ipython3",
   "version": "3.8.3"
  }
 },
 "nbformat": 4,
 "nbformat_minor": 4
}
